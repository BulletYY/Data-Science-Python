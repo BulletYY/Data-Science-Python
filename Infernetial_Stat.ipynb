{
 "cells": [
  {
   "cell_type": "markdown",
   "metadata": {},
   "source": [
    "## Dodatkowo\n",
    "\n",
    "- W zadaniach przyjmujemy poziom istotności $ \\alpha = 0.05$."
   ]
  },
  {
   "cell_type": "code",
   "execution_count": 956,
   "metadata": {},
   "outputs": [
    {
     "name": "stdout",
     "output_type": "stream",
     "text": [
      "   patient_index gender group  age  weight0  weight1\n",
      "0              1      M     T   40      144      136\n",
      "1              2      K     T   51       95       85\n",
      "2              3      K     T   41       54       44\n",
      "3              4      K     T   53       79       65\n",
      "4              5      K     T   49       90       77\n",
      "\n",
      "patient_index    0\n",
      "gender           0\n",
      "group            0\n",
      "age              0\n",
      "weight0          0\n",
      "weight1          0\n",
      "dtype: int64\n",
      "patient_index     int64\n",
      "gender           object\n",
      "group            object\n",
      "age               int64\n",
      "weight0           int64\n",
      "weight1           int64\n",
      "dtype: object\n"
     ]
    }
   ],
   "source": [
    "from scipy.stats import t,shapiro,chi2,levene,chisquare,kstest,chi2_contingency,spearmanr,f_oneway\n",
    "from math import sqrt\n",
    "import pandas as pd\n",
    "import numpy as np\n",
    "import seaborn as sns\n",
    "import matplotlib.pyplot as plt\n",
    "import statsmodels.api as sm\n",
    "from statsmodels.formula.api import ols\n",
    "from statsmodels.stats.multicomp import pairwise_tukeyhsd\n",
    "\n",
    "\n",
    "\n",
    "data = pd.read_csv(r\"C:\\Users\\Bullet\\OneDrive\\Pulpit\\PYTHON\\data_Zad_4.csv\")\n",
    "\n",
    "print(data.head())\n",
    "\n",
    "print()\n",
    "\n",
    "print(data.isna().sum())\n",
    "\n",
    "print(data.dtypes)\n",
    "\n"
   ]
  },
  {
   "cell_type": "markdown",
   "metadata": {},
   "source": [
    "# ZADANIE 1 \n",
    "\n",
    "**Hipotezy:**\n",
    "\n",
    "- $ H_0: $ Rozkład wieku pacjentów jest jednostajny.\n",
    "- $ H_1: $ Rozkład wieku pacjentów nie jest jednostajny.\n",
    "\n",
    "\n",
    "- statystyka testu istotnosci chi-kwadrat o n-1-p stopniach swobody, gdzie p to ilosc parametrow.\n",
    "\n",
    "- Dodatkowo kazdy przedzial (observed albo expected) powinien miec 5 częstości w przedziale.\n",
    "\n",
    "\n",
    "$$\n",
    "\\chi^2 = \\sum_{i=1}^{k} \\frac{(O_i - E_i)^2}{E_i}\n",
    "$$\n"
   ]
  },
  {
   "cell_type": "code",
   "execution_count": 957,
   "metadata": {},
   "outputs": [
    {
     "data": {
      "image/png": "[encoded data removed]",
      "text/plain": [
       "<Figure size 500x500 with 1 Axes>"
      ]
     },
     "metadata": {},
     "output_type": "display_data"
    }
   ],
   "source": [
    "sns.displot(data,x=\"age\",bins=round(sqrt(len(data))))\n",
    "\n",
    "plt.show()"
   ]
  },
  {
   "cell_type": "markdown",
   "metadata": {},
   "source": [
    "\n",
    "- Tworze szereg rozdzielczy przedziałowy z sqrt(n) ilością klas."
   ]
  },
  {
   "cell_type": "code",
   "execution_count": 969,
   "metadata": {},
   "outputs": [
    {
     "name": "stdout",
     "output_type": "stream",
     "text": [
      "age_bin\n",
      "(39.999, 41.176]    35\n",
      "(41.176, 42.353]    11\n",
      "(42.353, 43.529]    18\n",
      "(43.529, 44.706]    19\n",
      "(44.706, 45.882]     9\n",
      "(45.882, 47.059]    30\n",
      "(47.059, 48.235]    12\n",
      "(48.235, 49.412]    19\n",
      "(49.412, 50.588]     7\n",
      "(50.588, 51.765]    16\n",
      "(51.765, 52.941]    22\n",
      "(52.941, 54.118]    28\n",
      "(54.118, 55.294]    12\n",
      "(55.294, 56.471]    13\n",
      "(56.471, 57.647]    11\n",
      "(57.647, 58.824]    13\n",
      "(58.824, 60.0]      25\n",
      "Name: count, dtype: int64\n",
      "\n",
      "[17.647058823529413, 17.647058823529413, 17.647058823529413, 17.647058823529413, 17.647058823529413, 17.647058823529413, 17.647058823529413, 17.647058823529413, 17.647058823529413, 17.647058823529413, 17.647058823529413, 17.647058823529413, 17.647058823529413, 17.647058823529413, 17.647058823529413, 17.647058823529413, 17.647058823529413]\n",
      "\n",
      " p-value 1.1241865596542625e-06 wartosc Chi_2 58.019999999999996, bins : 17 \n"
     ]
    }
   ],
   "source": [
    "\n",
    "n = len(data)\n",
    "bins = int(np.sqrt(n))\n",
    "\n",
    "age_min = np.min(data['age'])\n",
    "age_max = np.max(data['age'])\n",
    "\n",
    "bin_edges = np.linspace(age_min, age_max, bins+1)  \n",
    "\n",
    "data['age_bin'] = pd.cut(data['age'], bins=bin_edges, include_lowest=True)\n",
    "\n",
    "observed = data['age_bin'].value_counts().sort_index()\n",
    "\n",
    "expected = [n / len(observed)] * len(observed)\n",
    "\n",
    "print(observed)\n",
    "print()\n",
    "print(f\"{expected}\")\n",
    "print()\n",
    "\n",
    "chi2_stat, p_value = chisquare(observed,expected)\n",
    "\n",
    "print(f\" p-value {p_value} wartosc Chi_2 {chi2_stat}, bins : {bins} \")\n",
    "\n"
   ]
  },
  {
   "cell_type": "markdown",
   "metadata": {},
   "source": [
    "- Kazdy przedzial ma 5 lub wiecej obserwacji, wiec zalozenie jest rownieez spelnione.\n",
    "\n",
    "- p-value jest równiez w tym przypadku mniejsze od 0.05, zatem istnieją podstawy do odrzuenia hipotezy H0.\n",
    "\n",
    "- ODP: Rozklad wieku pacjentów nie jest jednostajny."
   ]
  },
  {
   "cell_type": "markdown",
   "metadata": {},
   "source": [
    "# ZADANIE 2\n",
    "\n",
    "## Hipotezy\n",
    "- **Hipoteza zerowa (H₀):** Nie ma zależności między płcią a grupą.\n",
    "- **Hipoteza alternatywna (H₁):** Istnieje zależność między płcią a grupą.\n",
    "\n",
    "- Do sprawdzenia zaleznosci uzyje testu niezaleznosci chi_kwadrat o (kolumny-1)*(wiersze-1) stopniach swobody\n",
    "\n",
    "$$\n",
    "\\chi^2 = \\sum_{i=1}^{k} \\frac{(O_i - E_i)^2}{E_i}\n",
    "$$\n"
   ]
  },
  {
   "cell_type": "code",
   "execution_count": 980,
   "metadata": {},
   "outputs": [
    {
     "name": "stdout",
     "output_type": "stream",
     "text": [
      "group    C   P   T\n",
      "gender            \n",
      "K       49  39  51\n",
      "M       51  61  49\n",
      "\n",
      " chi^2 value 3.3245453326779573\n",
      " p-value 0.1897073483050253\n",
      " liczba stopni swobody 2\n",
      " Oczekiwane wartosci (O-E)^2/E [[46.33333333 46.33333333 46.33333333]\n",
      " [53.66666667 53.66666667 53.66666667]]\n"
     ]
    }
   ],
   "source": [
    "\n",
    "\n",
    "pivot_tab = pd.crosstab(index=data[\"gender\"],columns=data[\"group\"])\n",
    "\n",
    "print(pivot_tab)\n",
    "\n",
    "chi2_stat, p_value, dof, ex =chi2_contingency(pivot_tab)\n",
    "print()\n",
    "print(f\" chi^2 value {chi2_stat}\")\n",
    "print(f\" p-value {p_value}\")\n",
    "print(f\" liczba stopni swobody {dof}\")\n",
    "print(f\" Oczekiwane wartosci (O-E)^2/E {ex}\")\n",
    "\n"
   ]
  },
  {
   "cell_type": "markdown",
   "metadata": {},
   "source": [
    "- Dodatkowo spelnia zalozenia co do ilosci wartosci observed i expected w kazdej komórce, (min 5). \n",
    "\n",
    "- P-value jest wieksze od 0.05 zatem nie ma podstaw do odrzucenia hipotezy H0.\n",
    "\n",
    "- Odp : Nie ma istotnej zależności między przydziałem do grupy a płcią. "
   ]
  },
  {
   "cell_type": "markdown",
   "metadata": {},
   "source": [
    "# ZADANIE 3\n",
    "\n"
   ]
  },
  {
   "cell_type": "markdown",
   "metadata": {},
   "source": [
    "\n",
    "**Hipotezy:**\n",
    "\n",
    "\n",
    "$$\n",
    "H_0: \\rho = 0 \\quad \\text{ Początkowa masa ciała pacjentów nie jest zależna od wieku.}\n",
    "$$\n",
    "\n",
    "$$\n",
    "H_1: \\rho \\neq 0 \\quad \\text{Początkowa masa ciała pacjentów jest zależna od wieku.}\n",
    "$$\n",
    "\n",
    "- Uzywam statytyki która testuje istotność korelacji.\n",
    "\n",
    "- Liczę korelacje pearsona.\n",
    "\n",
    "\n",
    "$$\n",
    "t = \\frac{r \\sqrt{n - 2}}{\\sqrt{1 - r^2}}, \\quad dof = n - 2\n",
    "$$\n",
    "\n",
    "- gdzie r - korelacja"
   ]
  },
  {
   "cell_type": "code",
   "execution_count": 990,
   "metadata": {},
   "outputs": [
    {
     "name": "stdout",
     "output_type": "stream",
     "text": [
      "   patient_index gender group  age  weight0  weight1           age_bin  \\\n",
      "0              1      M     T   40      144      136  (39.999, 41.176]   \n",
      "1              2      K     T   51       95       85  (50.588, 51.765]   \n",
      "2              3      K     T   41       54       44  (39.999, 41.176]   \n",
      "3              4      K     T   53       79       65  (52.941, 54.118]   \n",
      "4              5      K     T   49       90       77  (48.235, 49.412]   \n",
      "\n",
      "   weight_diff  \n",
      "0           -8  \n",
      "1          -10  \n",
      "2          -10  \n",
      "3          -14  \n",
      "4          -13  \n",
      "1.9679565064965066\n",
      " wartosc korelacji -0.02399878527461819 statystyka policzona -0.41440261968896835\n",
      " False |t| < wartosc \n"
     ]
    }
   ],
   "source": [
    "# pearson\n",
    "\n",
    "print(data.head())\n",
    "\n",
    "korelacja = data[\"weight0\"].corr(data[\"age\"])\n",
    "\n",
    "quantity = len(data)\n",
    "\n",
    "statystyka =korelacja/sqrt(1-korelacja**2)*sqrt(quantity-2)\n",
    "\n",
    "\n",
    "print(t.ppf(1-0.05/2,quantity-2))\n",
    "print(f\" wartosc korelacji {korelacja} statystyka policzona {statystyka}\")\n",
    "\n",
    "print(f\" {abs(statystyka)>1-t.ppf(0.05/2,quantity-2)} |t| < wartosc \")\n",
    "\n",
    "\n",
    "# dopisac intepretacje i jedna rzecz\n"
   ]
  },
  {
   "cell_type": "markdown",
   "metadata": {},
   "source": [
    "- $$\\text{Gdy } |t| > t_\\alpha \\text{ to odrzucamy } H_0$$\n",
    "\n",
    "- Wartosc statystyki nie jest większa od wartosci odczytanej z rozkladu t-studenta, zatem nie ma podstaw do odrzucenia hipotezy H0.\n",
    "\n",
    "\n",
    "- ODP: Początkowa masa pacjentów nie jest zależna od wieku."
   ]
  },
  {
   "cell_type": "markdown",
   "metadata": {},
   "source": [
    "# ZADANIE 4"
   ]
  },
  {
   "cell_type": "markdown",
   "metadata": {},
   "source": [
    "\n",
    "- Postanowiłem wziąc średnie zmiany masy ciała pacjentów i sprawdzić czy sie róznia.\n",
    "\n",
    "**Hipotezy:**\n",
    "\n",
    "$$\n",
    "H_0: \\mu_1 = \\mu_2 \\quad \\text{(Średnia zmiana masy ciała jest taka sama w obu grupach)}\n",
    "$$\n",
    "\n",
    "$$\n",
    "H_1: \\mu_1 \\neq \\mu_2 \\quad \\text{(Średnia zmiana masy ciała różni się między grupami)}\n",
    "$$\n",
    "\n",
    "- uzywam statystyki t-studenta = n1+n2-2 stopni swobody.\n",
    "\n",
    "$$\n",
    "t = \\frac{\\bar{X}_1 - \\bar{X}_2}{\\sqrt{S_p^2 \\left( \\frac{1}{n_1} + \\frac{1}{n_2} \\right)}}\n",
    "$$\n",
    "\n",
    "gdzie :\n",
    "\n",
    "$$\n",
    "S_p^2 = \\frac{(n_1 - 1) S_1^2 + (n_2 - 1) S_2^2}{n_1 + n_2 - 2}\n",
    "$$\n",
    "\n",
    "- Na poczatek sprawdzam czy rozklady roznice wagowe dla mezczyzn i kobiet sa normalne, czego wymaga statystyka.\n"
   ]
  },
  {
   "cell_type": "code",
   "execution_count": 991,
   "metadata": {},
   "outputs": [
    {
     "name": "stdout",
     "output_type": "stream",
     "text": [
      " shapiro p-value  MEN :0.7396069992143217 WOMAN 0.5133626241354994\n"
     ]
    },
    {
     "data": {
      "image/png": "[encoded data removed]",
      "text/plain": [
       "<Figure size 562x500 with 1 Axes>"
      ]
     },
     "metadata": {},
     "output_type": "display_data"
    }
   ],
   "source": [
    "\n",
    "\n",
    "data['weight_diff'] = data['weight1'] - data['weight0']\n",
    "\n",
    "\n",
    "diff_M = data[data[\"gender\"] ==\"M\"][\"weight_diff\"]\n",
    "\n",
    "diff_K = data[data[\"gender\"] ==\"K\"][\"weight_diff\"]\n",
    "\n",
    "wartosc_k_2,p_value_k_2 = shapiro(diff_K)\n",
    "\n",
    "wartosc_m_2,p_value_m_2 = shapiro(diff_M)\n",
    "\n",
    "print(f\" shapiro p-value  MEN :{p_value_k_2} WOMAN {p_value_m_2}\")\n",
    "\n",
    "\n",
    "sns.displot(data,kind=\"hist\",hue=\"gender\",x=\"weight_diff\",alpha=0.3)\n",
    "\n",
    "plt.show()\n"
   ]
  },
  {
   "cell_type": "markdown",
   "metadata": {},
   "source": [
    "- dla mezczyzn i kobiet test shapiro wilka wychodzi p-value wieksze od 0.05 tzn ze nie ma podstaw do odrzucenia hipotezu w tescie shapiro wilka. Zatem mozemy przyjac ze rozklady sa normalne\n",
    "\n",
    "- Dodatkowo wykres sugeruje 'na oko' ze nie ma zaleznosci miedzy efektami po pol roku a plcia.\n",
    "\n",
    "- Policzmy zatem statystyke"
   ]
  },
  {
   "cell_type": "code",
   "execution_count": 992,
   "metadata": {},
   "outputs": [
    {
     "name": "stdout",
     "output_type": "stream",
     "text": [
      "            mean  count\n",
      "gender                 \n",
      "K      -9.712230    139\n",
      "M      -9.335404    161\n",
      "0.5546069093833752\n",
      "298\n",
      " wartosc statystyki 0.5546069093833752 LEWO -2.252785178400417 PRAWO 2.2527851784004183\n"
     ]
    }
   ],
   "source": [
    "\n",
    "fetched = data.loc[:,[\"gender\",\"weight_diff\"]]\n",
    "\n",
    "gender_stats = fetched.groupby('gender')['weight_diff'].agg(['mean','count'])\n",
    "\n",
    "mean_K = gender_stats.loc['K', 'mean']\n",
    "mean_M = gender_stats.loc['M', 'mean']\n",
    "\n",
    "var_K = data[data[\"gender\"]==\"K\"][\"weight_diff\"].var(ddof=1)\n",
    "var_M = data[data[\"gender\"]==\"M\"][\"weight_diff\"].var(ddof=1)\n",
    "\n",
    "count_K = gender_stats.loc['K', 'count']\n",
    "count_M = gender_stats.loc['M', 'count']\n",
    "\n",
    "print(gender_stats)\n",
    "\n",
    "pooled_variance = (var_K*(count_K-1) +var_M*(count_M-1))/(count_K+count_M-2)\n",
    "\n",
    "statystyka = (mean_M-mean_K)/sqrt(pooled_variance*(1/count_K +1/count_M))\n",
    "\n",
    "print(statystyka)\n",
    "\n",
    "print(count_K+count_M-2)\n",
    "\n",
    "crit_left =crit_value = t.ppf(0.025/2,count_K+count_M-2)\n",
    "\n",
    "crit_right =crit_value = t.ppf(1-0.025/2,count_K+count_M-2)\n",
    "\n",
    "print(f\" wartosc statystyki {statystyka} LEWO {crit_left} PRAWO {crit_right}\")\n"
   ]
  },
  {
   "cell_type": "markdown",
   "metadata": {},
   "source": [
    "- Obliczona statystyka nie wpada w przedzialy krytyczne tzn (-inf,-2.25] i [2.25,+inf), zatem nie ma podstaw do odrzucenia hipotezy H0\n",
    "\n",
    "- ODP : Efekt terapii nie jest zależny od plci."
   ]
  },
  {
   "cell_type": "markdown",
   "metadata": {},
   "source": [
    "# ZADANIE 5\n",
    "\n",
    "- grupa T to testowa, P - placebo, C - kontrolna \n",
    "\n",
    "## **Hipotezy:**\n",
    "\n",
    "### PYTANIE 1 : Czy testowany lek pomaga pacjentom schudnąć?\n",
    "\n",
    "$$\n",
    "H_0: \\mu_T = \\mu_P = \\mu_C \\quad \\text{Średnia utrata masy ciała w grupie (T) jest taka sama jak w grupach (P) i (C).}\n",
    "$$\n",
    "\n",
    "$$\n",
    "H_1: \\mu_T \\neq \\mu_P \\neq \\mu_C \\quad \\text{Średnia utrata masy ciała w grupie (T) różni się od średniej w grupach (P) i (C).}\n",
    "$$\n",
    "\n",
    "---\n",
    "\n",
    "###  PYTANIE 2 : Czy występuje efekt placebo?\n",
    "\n",
    "$$\n",
    "H_0: \\mu_P = \\mu_C \\quad \\text{Średnia utrata masy ciała w grupie (P) jest taka sama jak w grupie (C).}\n",
    "$$\n",
    "\n",
    "$$\n",
    "H_1: \\mu_P \\neq \\mu_C \\quad \\text{Średnia utrata masy ciała w grupie (P) różni się od średniej w grupie (C).}\n",
    "$$\n",
    "\n"
   ]
  },
  {
   "cell_type": "markdown",
   "metadata": {},
   "source": [
    "- Anova ma 2 zalożenia jednorodnosc wariancji i to ze dane maja rozklad normalny.\n",
    "\n",
    "- Ponizej sprawdzam te zalozenia \n"
   ]
  },
  {
   "cell_type": "markdown",
   "metadata": {},
   "source": [
    "- **Sprawdzenie rozkladu normalnego**"
   ]
  },
  {
   "cell_type": "code",
   "execution_count": 993,
   "metadata": {},
   "outputs": [
    {
     "name": "stdout",
     "output_type": "stream",
     "text": [
      " Grupa T: ShapiroResult(statistic=0.9809468598873242, pvalue=0.15743977302434586)\n",
      " Grupa P: ShapiroResult(statistic=0.9908091841892199, pvalue=0.7298032244549508)\n",
      " Grupa C: ShapiroResult(statistic=0.9803686851900576, pvalue=0.14200557066248692)\n"
     ]
    }
   ],
   "source": [
    "\n",
    "group_T = data[data['group'] == 'T']['weight_diff']\n",
    "group_P = data[data['group'] == 'P']['weight_diff']\n",
    "group_C = data[data['group'] == 'C']['weight_diff']\n",
    "\n",
    "print(\" Grupa T:\", shapiro(group_T))\n",
    "print(\" Grupa P:\", shapiro(group_P))\n",
    "print(\" Grupa C:\", shapiro(group_C))\n"
   ]
  },
  {
   "cell_type": "markdown",
   "metadata": {},
   "source": [
    "- Kazda grupa ma rozklad normalny poniewaz p-value jest wieksze w kazdej od 0.05"
   ]
  },
  {
   "cell_type": "markdown",
   "metadata": {},
   "source": [
    "- **Sprawdzenie jednorodnosci wariancji**"
   ]
  },
  {
   "cell_type": "code",
   "execution_count": 994,
   "metadata": {},
   "outputs": [
    {
     "name": "stdout",
     "output_type": "stream",
     "text": [
      " wyniki testu levena:  LeveneResult(statistic=0.7740067160270703, pvalue=0.4620895516741159)\n"
     ]
    }
   ],
   "source": [
    "print(f\" wyniki testu levena:  {levene(group_T, group_P, group_C) }\")\n"
   ]
  },
  {
   "cell_type": "markdown",
   "metadata": {},
   "source": [
    "- W tescie levena p-value jest wieksze od 0.05 zatem nie ma podstaw do odrzucenia H0. \n",
    "\n",
    "- Zatem, nie ma istotnych roznic pomiedzy grupami w wariancjach."
   ]
  },
  {
   "cell_type": "markdown",
   "metadata": {},
   "source": [
    "- **obliczenie statystyki F**"
   ]
  },
  {
   "cell_type": "code",
   "execution_count": 995,
   "metadata": {},
   "outputs": [
    {
     "name": "stdout",
     "output_type": "stream",
     "text": [
      " wyniki anovy :  F_onewayResult(statistic=34.50730032521868, pvalue=3.348257253957477e-14)\n"
     ]
    }
   ],
   "source": [
    "anova = f_oneway(group_T, group_P, group_C)\n",
    "print(f\" wyniki anovy :  {anova}\")"
   ]
  },
  {
   "cell_type": "markdown",
   "metadata": {},
   "source": [
    "- Otrzymujemy p-value mniejsze od 0.05, zatem odrzucam hipoteze H0 z pierwszego pytania, srednie się roznia.\n",
    "\n",
    "- Zatem istnieje istotna różnica w zmianach masy ciała pomiędzy przynajmniej jedną z par grup."
   ]
  },
  {
   "cell_type": "markdown",
   "metadata": {},
   "source": [
    "**ANALIZA POST-HOC**"
   ]
  },
  {
   "cell_type": "code",
   "execution_count": 996,
   "metadata": {},
   "outputs": [
    {
     "name": "stdout",
     "output_type": "stream",
     "text": [
      "Multiple Comparison of Means - Tukey HSD, FWER=0.05 \n",
      "====================================================\n",
      "group1 group2 meandiff p-adj   lower   upper  reject\n",
      "----------------------------------------------------\n",
      "     C      P    -4.26    0.0 -6.0248 -2.4952   True\n",
      "     C      T    -6.06    0.0 -7.8248 -4.2952   True\n",
      "     P      T     -1.8 0.0444 -3.5648 -0.0352   True\n",
      "----------------------------------------------------\n"
     ]
    }
   ],
   "source": [
    "tukey_test = pairwise_tukeyhsd(endog=data['weight_diff'], groups=data['group'], alpha=0.05)\n",
    "print(tukey_test)\n"
   ]
  },
  {
   "cell_type": "markdown",
   "metadata": {},
   "source": [
    "**Wnioski :**\n",
    "\n",
    "- **pytanie_1**\n",
    "\n",
    "- Roznica srednich w grupie testowej i grupie kontrolnej wynosi -6.06.\n",
    "\n",
    "- Roznica srednich w grupie testowej i grupie placebo wynosi -1.8.\n",
    "\n",
    "- Zatem grupa Testowa schudla wiecej niz grupa placebo i grupa kontrolna.\n",
    "\n",
    "- dodatkowo p-value-adj w odbydwu mniejsze jest od 0.05.\n",
    "\n",
    "- ODP: Lek pomaga pacjentom schudnąć, Bo chudną wiecej w porownaniu do innych grup.\n",
    "\n",
    "- **pytanie_2**\n",
    "\n",
    "- Średnia redukcja kg w grupie placebo jest większa niż w grupie kontrolnej , dodatkowo Reject =True (bo p-value adj jest mniejsze od 0.05 w kazdym przypadku).\n",
    "\n",
    "- Czyli branie placebo pomaga spalać kalorie.\n",
    "\n",
    "- Odrzucamy H0 z pytania drugiego. \n",
    "\n",
    "- ODP: Istnieje efekt placebo.\n"
   ]
  },
  {
   "cell_type": "markdown",
   "metadata": {},
   "source": [
    "# ZADANIE 6\n",
    "\n",
    "\n",
    "**Hipotezy:**\n",
    "\n",
    "- Przez stwierdzenie 'istotne efekty' rozumiem ze pacjenci schudli\n",
    "\n",
    "\n",
    "H_0: Średnia zmiana masy ciała wynosi 0, czyli brak efektu diety i ćwiczeń (pacjenci nie schudli).\n",
    "\n",
    "$$\n",
    "H_0: \\mu_0 = 0\n",
    "$$\n",
    "\n",
    "H_1: Średnia zmiana masy ciała jest mniejsza niż 0, czyli pacjenci schudli (efekt diety i ćwiczeń).\n",
    "\n",
    "$$\n",
    "H_1: \\mu_0 < 0\n",
    "$$\n",
    "\n",
    "- uzywam statystyki o n-1 stopniach swobody\n",
    "\n",
    "$$\n",
    "t = \\frac{(\\bar{X} - \\mu_0) \\sqrt{n}}{s}\n",
    "$$\n",
    "\n",
    "\n",
    "\n"
   ]
  },
  {
   "cell_type": "code",
   "execution_count": 997,
   "metadata": {},
   "outputs": [
    {
     "name": "stdout",
     "output_type": "stream",
     "text": [
      "   patient_index gender group  age  weight0  weight1           age_bin  \\\n",
      "0              1      M     T   40      144      136  (39.999, 41.176]   \n",
      "1              2      K     T   51       95       85  (50.588, 51.765]   \n",
      "2              3      K     T   41       54       44  (39.999, 41.176]   \n",
      "3              4      K     T   53       79       65  (52.941, 54.118]   \n",
      "4              5      K     T   49       90       77  (48.235, 49.412]   \n",
      "\n",
      "   weight_diff  \n",
      "0           -8  \n",
      "1          -10  \n",
      "2          -10  \n",
      "3          -14  \n",
      "4          -13  \n",
      " 0.14200557066248692\n"
     ]
    }
   ],
   "source": [
    "print(data.head())\n",
    "\n",
    "\n",
    "fetched_mean = data[data[\"group\"]==\"C\"][\"weight_diff\"].mean()\n",
    "fetched_std = data[data[\"group\"]==\"C\"][\"weight_diff\"].std(ddof=1)\n",
    "\n",
    "quantity_all = len(data[data[\"group\"]==\"C\"])\n",
    "\n",
    "m_0 = 0\n",
    "\n",
    "# sprawdzamy czy rozklad nie jest normalny\n",
    "\n",
    "wartosc_m,p_value_m = shapiro(data[data[\"group\"]==\"C\"][\"weight_diff\"])\n",
    "\n",
    "print(f\" {p_value_m}\")\n",
    "\n"
   ]
  },
  {
   "cell_type": "markdown",
   "metadata": {},
   "source": [
    "- p-value wieksze 0.05 zatem rozklad jest normalny"
   ]
  },
  {
   "cell_type": "code",
   "execution_count": 998,
   "metadata": {},
   "outputs": [
    {
     "name": "stdout",
     "output_type": "stream",
     "text": [
      "ilosc : 100 wartosc sredniej z hipotezy zerowej 0 srednia obliczona: -6.07 obliczone std 4.989392789111758\n",
      " statystyka obliczona -12.16580906046609 wartosc krytyczna -1.9842169515086832\n",
      "\n"
     ]
    }
   ],
   "source": [
    "\n",
    "\n",
    "print(f\"ilosc : {quantity_all} wartosc sredniej z hipotezy zerowej {m_0} srednia obliczona: {fetched_mean} obliczone std {fetched_std}\")\n",
    "\n",
    "statystyka_2 = (fetched_mean-m_0)*sqrt(quantity_all)/fetched_std\n",
    "\n",
    "print(f\" statystyka obliczona {statystyka_2} wartosc krytyczna {t.ppf(0.05/2,quantity_all-1)}\")\n",
    "\n",
    "print()\n",
    "\n"
   ]
  },
  {
   "cell_type": "markdown",
   "metadata": {},
   "source": [
    "- Wartosc obliczona wpada w przedzial krytyczny (jest mniejsze od approx -2) zatem istnieja podstawy do odrzucenia hipotezy H0.\n",
    "\n",
    "- ODP: Sama dieta połączona z ćwiczeniami daje istotne efekty."
   ]
  }
 ],
 "metadata": {
  "kernelspec": {
   "display_name": "Python 3",
   "language": "python",
   "name": "python3"
  },
  "language_info": {
   "codemirror_mode": {
    "name": "ipython",
    "version": 3
   },
   "file_extension": ".py",
   "mimetype": "text/x-python",
   "name": "python",
   "nbconvert_exporter": "python",
   "pygments_lexer": "ipython3",
   "version": "3.11.5"
  }
 },
 "nbformat": 4,
 "nbformat_minor": 2
}
